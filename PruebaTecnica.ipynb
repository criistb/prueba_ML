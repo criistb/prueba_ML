{
 "cells": [
  {
   "cell_type": "code",
   "execution_count": null,
   "id": "a9b9b5bf-d9f5-4cc5-9df7-9821cde4e7de",
   "metadata": {},
   "outputs": [],
   "source": [
    "import pandas as pd\n",
    "import numpy as np\n",
    "import matplotlib.pyplot as plt\n",
    "from sklearn.model_selection import train_test_split\n",
    "from sklearn.metrics import mean_squared_error\n",
    "from statsmodels.tsa.holtwinters import ExponentialSmoothing\n",
    "from matplotlib.dates import DateFormatter\n",
    "import matplotlib.dates as mdates\n",
    "import itertools\n",
    "import os\n",
    "\n",
    "\n",
    "data = pd.read_csv('bds/dataset_demand_acumulate.csv', parse_dates=['year_month'])\n",
    "data['year_month'] = pd.to_datetime(data['year_month'])\n",
    "data.set_index('year_month', inplace=True)  # Establecer 'year_month' como índice\n",
    "\n",
    "print(data.head())\n",
    "\n",
    "# Graficar la demanda a lo largo del tiempo\n",
    "plt.figure(figsize=(12, 6))\n",
    "plt.plot(data.index, data['Demand'], label='Demanda', color='b')\n",
    "plt.title('Demanda acumulada de Cementos Argos (2017-2022)')\n",
    "plt.xlabel('Fecha')\n",
    "plt.ylabel('Demanda')\n",
    "\n",
    "# Configurar el formato del eje X\n",
    "plt.gca().xaxis.set_major_locator(mdates.MonthLocator())\n",
    "plt.gca().xaxis.set_major_formatter(mdates.DateFormatter('%Y-%m'))\n",
    "\n",
    "plt.legend()\n",
    "plt.grid(True)\n",
    "plt.xticks(rotation=45)\n",
    "plt.tight_layout()  # Ajustar el diseño para que no se corte el contenido\n",
    "plt.show()"
   ]
  },
  {
   "cell_type": "code",
   "execution_count": null,
   "id": "caf96fdb-5791-49f1-b3af-a0bf6edc4170",
   "metadata": {},
   "outputs": [],
   "source": [
    "\n",
    "train_size = int(len(data) * 0.7)\n",
    "train_data, validation_data = data.iloc[:train_size], data.iloc[train_size:]\n",
    "\n",
    "# Concatenar los datos de entrenamiento y validación para graficar\n",
    "combined_data = pd.concat([train_data, validation_data], axis=0)\n",
    "\n",
    "# Graficar los datos\n",
    "plt.figure(figsize=(12, 6))\n",
    "\n",
    "# Graficar todos los datos en una sola línea continua\n",
    "plt.plot(combined_data.index, combined_data['Demand'], label='Demanda', color='b')\n",
    "\n",
    "# Graficar entrenamiento y validación con diferentes estilos\n",
    "\n",
    "plt.plot(validation_data.index, validation_data['Demand'], label='Validación', color='r', linestyle='--')\n",
    "\n",
    "# Configurar el formato del eje X\n",
    "plt.gca().xaxis.set_major_locator(mdates.MonthLocator())\n",
    "plt.gca().xaxis.set_major_formatter(mdates.DateFormatter('%Y-%m'))\n",
    "\n",
    "# Etiquetas y título\n",
    "plt.title('División de Datos 70-30')\n",
    "plt.xlabel('Fecha')\n",
    "plt.ylabel('Test')\n",
    "plt.legend()\n",
    "\n",
    "# Ajustes adicionales\n",
    "plt.grid(True)\n",
    "plt.xticks(rotation=45)\n",
    "plt.tight_layout()  # Ajustar el diseño para que no se corte el contenido\n",
    "\n",
    "# Mostrar gráfico\n",
    "plt.show()"
   ]
  },
  {
   "cell_type": "code",
   "execution_count": null,
   "id": "5c8f8980-2c52-44ae-ab4d-716ee15e2e26",
   "metadata": {},
   "outputs": [],
   "source": [
    "# Entrenar modelo\n",
    "model = ExponentialSmoothing(train_data['Demand'], seasonal='add', seasonal_periods=12).fit()"
   ]
  },
  {
   "cell_type": "code",
   "execution_count": null,
   "id": "4928dbd0-72bd-4397-99c6-29c301ddb4a6",
   "metadata": {},
   "outputs": [],
   "source": [
    "# Realizar predicciones en el conjunto de validación\n",
    "validation_predictions = model.predict(start=validation_data.index[0], end=validation_data.index[-1])\n",
    "\n",
    "# Calcular métricas de evaluación\n",
    "mse = mean_squared_error(validation_data['Demand'], validation_predictions)\n",
    "rmse = mse ** 0.5\n",
    "print(f'RMSE: {rmse}')\n",
    "\n",
    "# Graficar predicciones en el conjunto de validación\n",
    "plt.figure(figsize=(12, 6))\n",
    "plt.plot(combined_data.index, combined_data['Demand'], label='Entrenamiento')\n",
    "plt.plot(validation_data.index, validation_data['Demand'], label='Validación')\n",
    "plt.plot(validation_data.index, validation_predictions, label='Predicciones de Validación', linestyle='--')\n",
    "plt.title('Evaluación del Modelo')\n",
    "plt.xlabel('Fecha')\n",
    "plt.ylabel('Demanda')\n",
    "plt.legend()\n",
    "# Configurar el formato del eje X\n",
    "plt.gca().xaxis.set_major_locator(mdates.MonthLocator())\n",
    "plt.gca().xaxis.set_major_formatter(mdates.DateFormatter('%Y-%m'))\n",
    "\n",
    "plt.legend()\n",
    "plt.grid(True)\n",
    "plt.xticks(rotation=45)\n",
    "plt.tight_layout()  # Ajustar el diseño para que no se corte el contenido\n",
    "plt.show()\n"
   ]
  },
  {
   "cell_type": "code",
   "execution_count": null,
   "id": "f61fb932-bbbc-466e-94b8-558833470981",
   "metadata": {
    "tags": []
   },
   "outputs": [],
   "source": [
    "# Realizar pronósticos para mayo, junio y julio de 2022\n",
    "model = ExponentialSmoothing(data['Demand'], seasonal='add', seasonal_periods=12).fit()\n",
    "forecast = model.predict(start='2022-05-01', end='2022-07-01')\n",
    "print(forecast)"
   ]
  },
  {
   "cell_type": "code",
   "execution_count": null,
   "id": "b28c08f5-9f40-4c97-913e-e763605e3296",
   "metadata": {},
   "outputs": [],
   "source": [
    "forecast_df = forecast.reset_index()\n",
    "forecast_df.columns = ['year_month', 'Demand']\n",
    "\n",
    "# Convertir la columna 'Fecha' a tipo datetime\n",
    "forecast_df['year_month'] = pd.to_datetime(forecast_df['year_month'])\n",
    "combined_data = combined_data.reset_index()\n",
    "df_last = pd.concat([combined_data, forecast_df], axis=0).reset_index(drop=True)"
   ]
  },
  {
   "cell_type": "code",
   "execution_count": null,
   "id": "745cea3f-77ca-403c-9b0e-546a2d46a8af",
   "metadata": {
    "tags": []
   },
   "outputs": [],
   "source": [
    "plt.figure(figsize=(12, 6))\n",
    "plt.plot(combined_data.year_month, combined_data['Demand'], label='Data')\n",
    "plt.plot(validation_data.index, validation_data['Demand'], label='Validación')\n",
    "plt.plot(validation_data.index, validation_predictions, label='Predicciones de Validación', linestyle='--')\n",
    "plt.plot(forecast.index, forecast, label='Pronósticos', linestyle='--')\n",
    "plt.title('Pronósticos de Demanda (Mayo - Julio 2022)')\n",
    "plt.xlabel('Fecha')\n",
    "plt.ylabel('Demanda')\n",
    "plt.legend()\n",
    "plt.gca().xaxis.set_major_locator(mdates.MonthLocator())\n",
    "plt.gca().xaxis.set_major_formatter(mdates.DateFormatter('%Y-%m'))\n",
    "\n",
    "plt.legend()\n",
    "plt.grid(True)\n",
    "plt.xticks(rotation=45)\n",
    "plt.tight_layout()\n",
    "plt.show()"
   ]
  },
  {
   "cell_type": "code",
   "execution_count": null,
   "id": "d456e72e-b3cf-4d60-bf1c-e2bb2f01cdff",
   "metadata": {},
   "outputs": [],
   "source": [
    "# Optimizar modelo\n",
    "\n",
    "def tes_optimizer(train_data, validation_data, abg, trend_mode='add', seasonal_mode='add', seasonal_period=12, step=20):\n",
    "\n",
    "    best_alpha, best_beta, best_gamma, best_rmse = None, None, None, float(\"inf\")\n",
    "    \n",
    "    for comb in abg:\n",
    "        tes_model = ExponentialSmoothing(train_data, trend=trend_mode, seasonal=seasonal_mode, seasonal_periods=seasonal_period).fit(\n",
    "            smoothing_level=comb[0], smoothing_trend=comb[1], smoothing_seasonal=comb[2]\n",
    "        )\n",
    "        y_pred = tes_model.forecast(step)\n",
    "        mse = mean_squared_error(validation_data, y_pred)\n",
    "        rmse = mse ** 0.5\n",
    "        \n",
    "        if rmse < best_rmse:\n",
    "            best_alpha, best_beta, best_gamma, best_rmse = comb[0], comb[1], comb[2], rmse\n",
    "            \n",
    "        print([round(comb[0], 2), round(comb[1], 2), round(comb[2], 2), round(rmse, 2)])\n",
    "        print(\"best_alpha:\", round(best_alpha, 2), \"best_beta:\", round(best_beta, 2), \"best_gamma:\", round(best_gamma, 2),\n",
    "              \"best_mae:\", round(best_rmse, 4))\n",
    "        \n",
    "    return best_alpha, best_beta, best_gamma, best_rmse\n"
   ]
  },
  {
   "cell_type": "code",
   "execution_count": null,
   "id": "af74b7f2-3573-4eb3-95de-c6587e791332",
   "metadata": {},
   "outputs": [],
   "source": [
    "def plot_co2(train, test, y_pred, title):\n",
    "\n",
    "    mse = mean_squared_error(test, y_pred)\n",
    "    rmse = mse ** 0.5\n",
    "    print(f'RMSE: {rmse}')\n",
    "    train[\"2015\":].plot(legend=True, label=\"TRAIN\", title=f\"{title}, RMSE: {round(rmse,2)}\")\n",
    "    test.plot(legend=True, label=\"TEST\", figsize=(12, 6))\n",
    "    y_pred.plot(legend=True, label=\"PREDICTION\")\n",
    "    plt.grid(True)\n",
    "    plt.show()"
   ]
  },
  {
   "cell_type": "code",
   "execution_count": null,
   "id": "0d4f90d9-8ecc-4b91-817a-0ae81af4281b",
   "metadata": {},
   "outputs": [],
   "source": [
    "alphas = betas = gammas = np.arange(0.10, 1, 0.20)\n",
    "abg = list(itertools.product(alphas, betas, gammas))"
   ]
  },
  {
   "cell_type": "code",
   "execution_count": null,
   "id": "1acf7739-7d36-41d2-bf3b-11ae3106d536",
   "metadata": {},
   "outputs": [],
   "source": [
    "model = ExponentialSmoothing(train_data['Demand'],\n",
    "   trend=\"add\",\n",
    "   seasonal=\"add\",\n",
    "   seasonal_periods=12\n",
    "   ).fit(smoothing_level=0.5,\n",
    "         smoothing_trend=0.5,\n",
    "         smoothing_seasonal=0.5\n",
    "   )"
   ]
  },
  {
   "cell_type": "code",
   "execution_count": null,
   "id": "5b9ee7bf-1d9b-4b5c-bcc1-8e40abbf10f7",
   "metadata": {},
   "outputs": [],
   "source": [
    "y_pred = model.forecast(20)"
   ]
  },
  {
   "cell_type": "code",
   "execution_count": null,
   "id": "6d0981df-cc27-4a07-b21c-060d0178eda1",
   "metadata": {},
   "outputs": [],
   "source": [
    "plot_co2(train_data['Demand'], validation_data['Demand'], y_pred, \"Forecast\")"
   ]
  },
  {
   "cell_type": "code",
   "execution_count": null,
   "id": "9c7e274c-26e8-4353-9f2d-8b9dd46fa6f2",
   "metadata": {
    "collapsed": true,
    "jupyter": {
     "outputs_hidden": true
    },
    "tags": []
   },
   "outputs": [],
   "source": [
    "best_alpha, best_beta, best_gamma, best_mae = tes_optimizer(train_data['Demand'],validation_data['Demand'], abg)"
   ]
  },
  {
   "cell_type": "code",
   "execution_count": null,
   "id": "c5c58631-f9ab-4e75-8dd9-a01f427219b7",
   "metadata": {},
   "outputs": [],
   "source": [
    "final_tes_model = ExponentialSmoothing(train_data['Demand'], trend=\"add\", seasonal=\"add\", seasonal_periods=12).fit(smoothing_level=best_alpha, smoothing_trend=best_beta, smoothing_seasonal=best_gamma)"
   ]
  },
  {
   "cell_type": "code",
   "execution_count": null,
   "id": "a11221f9-4c34-48e1-9efb-558c955184e3",
   "metadata": {},
   "outputs": [],
   "source": [
    "y_pred = final_tes_model.forecast(20)"
   ]
  },
  {
   "cell_type": "code",
   "execution_count": null,
   "id": "49fc59ee-0b48-46dd-a14a-2b10266d8e86",
   "metadata": {},
   "outputs": [],
   "source": [
    "plot_co2(train_data['Demand'], validation_data['Demand'], y_pred, \"Triple Exponential Smoothing\")"
   ]
  },
  {
   "cell_type": "code",
   "execution_count": null,
   "id": "31b22ec8-8281-495b-89b0-d4eb19c51f80",
   "metadata": {},
   "outputs": [],
   "source": [
    "final_tes_model = ExponentialSmoothing(data['Demand'], trend=\"add\", seasonal=\"add\", seasonal_periods=12).fit(smoothing_level=best_alpha, smoothing_trend=best_beta, smoothing_seasonal=best_gamma)"
   ]
  },
  {
   "cell_type": "code",
   "execution_count": null,
   "id": "f1180860-2262-421d-b242-1346ba5bee68",
   "metadata": {},
   "outputs": [],
   "source": [
    "forecast = final_tes_model.predict(start='2022-05-01', end='2022-07-01')\n",
    "forecast"
   ]
  },
  {
   "cell_type": "code",
   "execution_count": null,
   "id": "2ad737fa-1f85-4ae1-b430-6f548260bd7f",
   "metadata": {},
   "outputs": [],
   "source": [
    "plt.figure(figsize=(12, 6))\n",
    "plt.plot(combined_data.year_month, combined_data['Demand'], label='Data')\n",
    "plt.plot(validation_data.index, validation_data['Demand'], label='Validación')\n",
    "plt.plot(validation_data.index, y_pred, label='Predicciones de Validación', linestyle='--')\n",
    "plt.plot(forecast.index, forecast, label='Pronósticos', linestyle='--')\n",
    "plt.title('Pronósticos de Demanda (Mayo - Julio 2022)')\n",
    "plt.xlabel('Fecha')\n",
    "plt.ylabel('Demanda')\n",
    "plt.legend()\n",
    "plt.gca().xaxis.set_major_locator(mdates.MonthLocator())\n",
    "plt.gca().xaxis.set_major_formatter(mdates.DateFormatter('%Y-%m'))\n",
    "\n",
    "plt.legend()\n",
    "plt.grid(True)\n",
    "plt.xticks(rotation=45)\n",
    "plt.tight_layout()\n",
    "plt.show()"
   ]
  },
  {
   "cell_type": "markdown",
   "id": "1205d7fc-9e21-4374-ac29-176e2998acc1",
   "metadata": {},
   "source": [
    "Punto 2"
   ]
  },
  {
   "cell_type": "code",
   "execution_count": null,
   "id": "57dff91a-3302-4d6c-837f-b77058ff72cc",
   "metadata": {},
   "outputs": [],
   "source": [
    "import pandas as pd\n",
    "import numpy as np\n",
    "import matplotlib.pyplot as plt\n",
    "from sklearn.model_selection import train_test_split\n",
    "from sklearn.preprocessing import StandardScaler, OneHotEncoder\n",
    "from sklearn.compose import ColumnTransformer\n",
    "from sklearn.pipeline import Pipeline\n",
    "from sklearn.decomposition import TruncatedSVD\n",
    "from sklearn.ensemble import RandomForestClassifier\n",
    "from sklearn.metrics import classification_report, confusion_matrix, accuracy_score\n",
    "import joblib\n",
    "\n",
    "\n",
    "# 1. Carga y Exploración de Datos\n",
    "data = pd.read_csv('bds/dataset_alpha_betha.csv')\n",
    "\n"
   ]
  },
  {
   "cell_type": "code",
   "execution_count": null,
   "id": "c17dd5f1-7902-4c3e-a3ea-d19ead8da793",
   "metadata": {},
   "outputs": [],
   "source": [
    "data.dtypes"
   ]
  },
  {
   "cell_type": "code",
   "execution_count": null,
   "id": "4d72cdd1-6eb9-487d-b8bb-87a100b68116",
   "metadata": {},
   "outputs": [],
   "source": [
    "data.isna().sum()"
   ]
  },
  {
   "cell_type": "code",
   "execution_count": null,
   "id": "9cc14a61-b52a-420e-a97a-47af63d5e8d6",
   "metadata": {},
   "outputs": [],
   "source": [
    "data['Demand'] = pd.to_numeric(data['Demand'], errors='coerce')"
   ]
  },
  {
   "cell_type": "code",
   "execution_count": null,
   "id": "a5ad3a24-54ff-414f-921f-5f763533fb76",
   "metadata": {},
   "outputs": [],
   "source": [
    "data.isna().sum()"
   ]
  },
  {
   "cell_type": "code",
   "execution_count": null,
   "id": "aff6d7b8-1ce6-4746-be84-68236b56919d",
   "metadata": {},
   "outputs": [],
   "source": [
    "data[data['Demand'].isna() ==True]"
   ]
  },
  {
   "cell_type": "code",
   "execution_count": null,
   "id": "523b180d-9d5a-4d53-9bd0-8bd1743e1343",
   "metadata": {},
   "outputs": [],
   "source": [
    "data.dropna(inplace=True)"
   ]
  },
  {
   "cell_type": "code",
   "execution_count": null,
   "id": "e869f02f-6f95-4123-a566-b31ff1fa37ac",
   "metadata": {},
   "outputs": [],
   "source": [
    "# Separar características y etiquetas\n",
    "X = data.drop('Class', axis=1)  # Asegúrate de que 'class' es el nombre de la columna de etiquetas\n",
    "y = data['Class']"
   ]
  },
  {
   "cell_type": "code",
   "execution_count": null,
   "id": "10aa24b4-facb-4911-9120-eaea6e498f7b",
   "metadata": {},
   "outputs": [],
   "source": [
    "categorical_cols = X.select_dtypes(include=['object']).columns\n",
    "numerical_cols = X.select_dtypes(exclude=['object']).columns\n",
    "\n",
    "# Crear un preprocesador para las columnas categóricas y numéricas\n",
    "preprocessor = ColumnTransformer(\n",
    "    transformers=[\n",
    "        ('num', StandardScaler(), numerical_cols),\n",
    "        ('cat', OneHotEncoder(handle_unknown='ignore', sparse_output=False), categorical_cols)\n",
    "    ])\n",
    "\n",
    "# Crear un pipeline con preprocesamiento, TruncatedSVD y el modelo\n",
    "pipeline = Pipeline(steps=[\n",
    "    ('preprocessor', preprocessor),\n",
    "    ('svd', TruncatedSVD(n_components=10)),  # Ajusta el número de componentes según sea necesario\n",
    "    ('classifier', RandomForestClassifier(n_estimators=100, random_state=42))\n",
    "])"
   ]
  },
  {
   "cell_type": "code",
   "execution_count": null,
   "id": "4bbdcb56-5472-4f26-98fa-a4338cbf022d",
   "metadata": {},
   "outputs": [],
   "source": [
    "# 3. División de los Datos en Conjuntos de Entrenamiento y Testeo (70-30)\n",
    "X_train, X_test, y_train, y_test = train_test_split(X, y, test_size=0.3, random_state=42)\n",
    "\n",
    "# 4. Entrenamiento del Modelo de Clasificación\n",
    "pipeline.fit(X_train, y_train)"
   ]
  },
  {
   "cell_type": "code",
   "execution_count": null,
   "id": "99556466-eb9d-46d6-840d-0389af80ec5b",
   "metadata": {},
   "outputs": [],
   "source": [
    "# 5. Evaluación del Modelo\n",
    "y_pred = pipeline.predict(X_test)\n",
    "\n",
    "accuracy = accuracy_score(y_test, y_pred)\n",
    "conf_matrix = confusion_matrix(y_test, y_pred)\n",
    "class_report = classification_report(y_test, y_pred)\n",
    "\n",
    "print(f'Accuracy: {accuracy}')\n",
    "print('Confusion Matrix:')\n",
    "print(conf_matrix)\n",
    "print('Classification Report:')\n",
    "print(class_report)\n",
    "\n"
   ]
  },
  {
   "cell_type": "code",
   "execution_count": null,
   "id": "142735b7-8949-4800-b2dc-41f82df742aa",
   "metadata": {},
   "outputs": [],
   "source": [
    "# Graficar Matriz de Confusión\n",
    "plt.figure(figsize=(8, 6))\n",
    "plt.imshow(conf_matrix, interpolation='nearest', cmap=plt.cm.Blues)\n",
    "plt.title('Confusion Matrix')\n",
    "plt.colorbar()\n",
    "plt.xticks(np.arange(len(pipeline.named_steps['classifier'].classes_)), pipeline.named_steps['classifier'].classes_, rotation=45)\n",
    "plt.yticks(np.arange(len(pipeline.named_steps['classifier'].classes_)), pipeline.named_steps['classifier'].classes_)\n",
    "plt.ylabel('True label')\n",
    "plt.xlabel('Predicted label')\n",
    "plt.show()\n"
   ]
  },
  {
   "cell_type": "code",
   "execution_count": null,
   "id": "e85030d0-27db-421a-8d87-8b5ea66d31b2",
   "metadata": {},
   "outputs": [],
   "source": [
    "# Guardar el pipeline entrenado (incluye preprocesamiento, TruncatedSVD y modelo)\n",
    "joblib.dump(pipeline, 'api_project/model/classification_pipeline.pkl')\n",
    "\n",
    "# Guardar las métricas en un archivo txt\n",
    "with open('results/model_metrics.txt', 'w') as f:\n",
    "    f.write(f'Accuracy: {accuracy}\\n')\n",
    "    f.write('Confusion Matrix:\\n')\n",
    "    f.write(np.array2string(conf_matrix))\n",
    "    f.write('\\nClassification Report:\\n')\n",
    "    f.write(class_report)"
   ]
  },
  {
   "cell_type": "code",
   "execution_count": null,
   "id": "a9f70a1a-fc7c-4ab8-a5f7-a688d3f5ed12",
   "metadata": {},
   "outputs": [],
   "source": [
    "# Información adicional\n",
    "with open('results/model_info.txt', 'w') as f:\n",
    "    f.write('Modelo: RandomForestClassifier\\n')\n",
    "    f.write(f'Número de datos de entrenamiento: {len(X_train)}\\n')\n",
    "    f.write(f'Número de datos de testeo: {len(X_test)}\\n')\n",
    "    f.write(f'Número de estimadores: {pipeline.named_steps[\"classifier\"].n_estimators}\\n')"
   ]
  },
  {
   "cell_type": "code",
   "execution_count": null,
   "id": "d1f2d427-e1e1-4647-9ad4-315f5738f927",
   "metadata": {},
   "outputs": [],
   "source": [
    "import pandas as pd\n",
    "from sklearn.pipeline import Pipeline\n",
    "import joblib\n",
    "\n",
    "# Cargar el modelo entrenado\n",
    "model = joblib.load('api_project/model/classification_pipeline.pkl')\n",
    "\n",
    "# Cargar el dataset\n",
    "df_to_predict = pd.read_csv('bds/to_predict.csv')\n",
    "\n",
    "\n"
   ]
  },
  {
   "cell_type": "code",
   "execution_count": null,
   "id": "c5de199f-fbcb-4dd6-b0bc-d1030a87656c",
   "metadata": {},
   "outputs": [],
   "source": [
    "forecast_df = forecast.reset_index()\n",
    "forecast_df.columns = ['year_month', 'Demand']"
   ]
  },
  {
   "cell_type": "code",
   "execution_count": null,
   "id": "26fae791-f3f9-4363-9e95-c175c2e60509",
   "metadata": {},
   "outputs": [],
   "source": [
    "df_to_predict"
   ]
  },
  {
   "cell_type": "code",
   "execution_count": null,
   "id": "25766a71-1133-477b-8e99-c32bf56d14c4",
   "metadata": {},
   "outputs": [],
   "source": [
    "df_to_predict['Demand'] = forecast_df['Demand']\n",
    "\n",
    "y = df_to_predict['Class']\n",
    "df_to_predict.drop(['Class'],axis=1, inplace=True)\n",
    "\n",
    "# Crear la carpeta api_project si no existe\n",
    "output_dir = 'api_project'\n",
    "if not os.path.exists(output_dir):\n",
    "    os.makedirs(output_dir)\n",
    "# Exportar el DataFrame a JSON en la carpeta api_project\n",
    "json_file_path = os.path.join(output_dir, 'input_data.json')\n",
    "\n",
    "df_to_predict.to_json(json_file_path, orient='records', lines=False, indent=4)\n",
    "\n",
    "print(f\"Archivo JSON guardado en: {json_file_path}\")"
   ]
  },
  {
   "cell_type": "code",
   "execution_count": null,
   "id": "a6acfe37-7842-4618-bdbb-33d02901646c",
   "metadata": {},
   "outputs": [],
   "source": [
    "# Realizar la predicción de la demanda\n",
    "predictions = pipeline.predict(df_to_predict)\n",
    "\n",
    "# Añadir las predicciones al DataFrame\n",
    "df_to_predict['Class'] = predictions\n",
    "\n",
    "# Guardar el DataFrame actualizado\n",
    "df_to_predict.to_csv('results/to_predict_with_demand_and_class.csv', index=False)"
   ]
  }
 ],
 "metadata": {
  "kernelspec": {
   "display_name": "Python 3 (ipykernel)",
   "language": "python",
   "name": "python3"
  },
  "language_info": {
   "codemirror_mode": {
    "name": "ipython",
    "version": 3
   },
   "file_extension": ".py",
   "mimetype": "text/x-python",
   "name": "python",
   "nbconvert_exporter": "python",
   "pygments_lexer": "ipython3",
   "version": "3.10.6"
  }
 },
 "nbformat": 4,
 "nbformat_minor": 5
}
